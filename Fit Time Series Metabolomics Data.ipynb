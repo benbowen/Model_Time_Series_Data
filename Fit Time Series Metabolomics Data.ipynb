{
 "cells": [
  {
   "cell_type": "code",
   "execution_count": 1,
   "metadata": {
    "collapsed": false
   },
   "outputs": [],
   "source": [
    "# http://docs.scipy.org/doc/scipy/reference/tutorial/optimize.html#tutorial-sqlsp\n",
    "# from scipy.optimize import fmin_slsqp\n",
    "from math import pi\n",
    "import numpy as np\n",
    "import pickle\n",
    "from matplotlib import pylab as plt\n",
    "from scipy.optimize import leastsq\n",
    "\n",
    "%matplotlib inline\n",
    "\n"
   ]
  },
  {
   "cell_type": "code",
   "execution_count": 2,
   "metadata": {
    "collapsed": true
   },
   "outputs": [],
   "source": [
    "with open('onur_data.pkl','r') as f:\n",
    "    data = pickle.load(f)"
   ]
  },
  {
   "cell_type": "code",
   "execution_count": 3,
   "metadata": {
    "collapsed": true
   },
   "outputs": [],
   "source": [
    "def my_func(t,a):\n",
    "    '''\n",
    "    From, Time-Resolved Metabolic Footprinting for Nonlinear Modeling of Bacterial Substrate Utilization\n",
    "    Behrends, Ebbels, Wiliams, and Bundy\n",
    "    \n",
    "    Input\n",
    "    t: a 1d numpy array representing time points that were sampled\n",
    "    a: the parameters in the model below\n",
    "    \n",
    "    Output:\n",
    "    y: a 1d numpy array representing the magnitude of a given metabolite over time\n",
    "    \n",
    "    Model:\n",
    "    y = a[0] / (1 + np.exp( (t - a[1]) / a[2])) + a[3]\n",
    "    \n",
    "    where:\n",
    "    a[0] is the amplitude between the starting point and the lowest level a metabolite goes to\n",
    "    a[1] is the t_50 or t one-half, which is the time at half-amplitude\n",
    "    a[2] is the width or time of the exponent to go from 1 to -1\n",
    "    a[3] is the offset, which is the final amplitude\n",
    "\n",
    "    Authors:\n",
    "    Ben Bowen and Onur Erbilgin\n",
    "    2015, December 3\n",
    "    JGI, Berkeley Lab\n",
    "    \n",
    "    '''\n",
    "    return a[0] / (1 + np.exp( (t - a[1]) / a[2] ) ) + a[3]\n",
    "\n",
    "# depricated.  this only used for fmin_slsqp\n",
    "# def my_residual(a,t,y):\n",
    "#     return np.sum((y-my_func(t,a))**2)\n",
    "\n",
    "def my_residual(a,t,y):\n",
    "    for p in a:\n",
    "        if p < 0:\n",
    "            return y + 1e20\n",
    "    return y-my_func(t,a)"
   ]
  },
  {
   "cell_type": "code",
   "execution_count": 5,
   "metadata": {
    "collapsed": false
   },
   "outputs": [
    {
     "name": "stdout",
     "output_type": "stream",
     "text": [
      "(array([ 98.98786907,  20.14644788,   1.36949196,   3.35821373]), 1)\n"
     ]
    },
    {
     "data": {
      "image/png": "[encoded data removed]",
      "text/plain": [
       "<matplotlib.figure.Figure at 0x7f15b62e1f90>"
      ]
     },
     "metadata": {},
     "output_type": "display_data"
    }
   ],
   "source": [
    "\n",
    "N = 100 #the number of time points\n",
    "t_max = 24 #max time of experiment\n",
    "\n",
    "t=np.linspace(0,t_max,N)\n",
    "\n",
    "#some values to create fake data\n",
    "a_create_fake_data = [90, #amplitude\n",
    "    20, #t_50\n",
    "    1, #width\n",
    "    10] #offset\n",
    "\n",
    "y_measured =my_func(t,a_create_fake_data) + np.random.normal(0,10,N)\n",
    "\n",
    "#give the fitter an initial guess\n",
    "a_guess = [90, #amplitude\n",
    "    10, #t_50\n",
    "    2, #width\n",
    "    1] #offset\n",
    "\n",
    "\n",
    "out = leastsq(my_residual,a_guess,args=(t,y_measured))\n",
    "\n",
    "y_fit = my_func(t,out[0])\n",
    "print out\n",
    "\n",
    "plt.plot(t,y_measured, label='measured')\n",
    "plt.plot(t,y_fit, label='fit')\n",
    "plt.legend()\n",
    "plt.show()"
   ]
  },
  {
   "cell_type": "code",
   "execution_count": 6,
   "metadata": {
    "collapsed": false
   },
   "outputs": [
    {
     "name": "stderr",
     "output_type": "stream",
     "text": [
      "//anaconda/lib/python2.7/site-packages/matplotlib/axes/_subplots.py:69: MatplotlibDeprecationWarning: The use of 0 (which ends up being the _last_ sub-plot) is deprecated in 1.4 and will raise an error in 1.5\n",
      "  mplDeprecation)\n",
      "/anaconda/lib/python2.7/site-packages/IPython/kernel/__main__.py:28: RuntimeWarning: overflow encountered in exp\n"
     ]
    },
    {
     "data": {
      "text/plain": [
       "<matplotlib.figure.Figure at 0x7f15b60d77d0>"
      ]
     },
     "metadata": {},
     "output_type": "display_data"
    }
   ],
   "source": [
    "\n",
    "\n",
    "t = np.asarray(data['dim3'])\n",
    "data['fit_result'] = np.zeros((len(data['dim1']),len(data['dim2']),4))\n",
    "data['fit_residual'] = np.zeros((len(data['dim1']),len(data['dim2'])))\n",
    "data['y_fit'] = np.zeros(data['M'].shape)\n",
    "for iii in range(len(data['dim1'])):\n",
    "    for i in range(20):\n",
    "        y_measured = data['M'][iii,i,:].flatten()\n",
    "        a_guess = np.asarray([1e5, #amplitude\n",
    "            4, #t_50\n",
    "            1, #width\n",
    "            0]) #offset\n",
    "\n",
    "        # out, fx, its, imode, smode = fmin_slsqp(my_residual,a_guess,args=(t,y_measured),bounds=[(0,1e9),(0.0001,None),(0.0001,26),(0,1e9)], full_output=True)\n",
    "        out = leastsq(my_residual,a_guess,args=(t,y_measured))\n",
    "        y_fit = my_func(t,out[0])\n",
    "        data['y_fit'][iii,i,:] = y_fit\n",
    "        data['fit_result'][iii,i,:] = out[0]\n",
    "        data['fit_residual'][iii,i] = out[1]\n",
    "    #     print out\n",
    "        plt.subplot(4,5,i)\n",
    "        plt.plot(t,y_measured,'.', label='measured')\n",
    "        plt.plot(t,y_fit, label='fit')\n",
    "        plt.title(data['dim2'][i].replace(' Results Final Conc.',''))\n",
    "    #     plt.legend()\n",
    "    fig = plt.gcf()\n",
    "    fig.set_size_inches(18.5, 10.5)\n",
    "    plt.tight_layout()\n",
    "    fig.savefig('%s.png'%data['dim1'][iii], dpi=100)\n",
    "    fig.clear()\n",
    "# plt.show()"
   ]
  },
  {
   "cell_type": "code",
   "execution_count": 24,
   "metadata": {
    "collapsed": false
   },
   "outputs": [],
   "source": [
    "with open(\"onur_data_including_fit.pkl\",'w') as f:\n",
    "    pickle.dump(data,f)"
   ]
  }
 ],
 "metadata": {
  "kernelspec": {
   "display_name": "Python 2",
   "language": "python",
   "name": "python2"
  },
  "language_info": {
   "codemirror_mode": {
    "name": "ipython",
    "version": 2
   },
   "file_extension": ".py",
   "mimetype": "text/x-python",
   "name": "python",
   "nbconvert_exporter": "python",
   "pygments_lexer": "ipython2",
   "version": "2.7.10"
  }
 },
 "nbformat": 4,
 "nbformat_minor": 0
}
